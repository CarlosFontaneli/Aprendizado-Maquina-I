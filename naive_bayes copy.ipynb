{
 "cells": [
  {
   "cell_type": "code",
   "execution_count": 1,
   "metadata": {},
   "outputs": [
    {
     "data": {
      "image/png": "[encoded data removed]",
      "text/plain": [
       "<Figure size 432x288 with 1 Axes>"
      ]
     },
     "metadata": {
      "needs_background": "light"
     },
     "output_type": "display_data"
    }
   ],
   "source": [
    "import pandas as pd\n",
    "import numpy as np\n",
    "import matplotlib.pyplot as plt\n",
    "from sklearn import datasets\n",
    "from sklearn.model_selection import train_test_split\n",
    "from sklearn.naive_bayes import GaussianNB\n",
    "from sklearn.preprocessing import LabelEncoder\n",
    "\n",
    "df = pd.read_csv(\"drug200.csv\")\n",
    "# df = df.drop(df[df['Na_to_K'] > 35].index)\n",
    "df_a = df[df['Drug'] == 'drugA']\n",
    "df_b = df[df['Drug'] == 'drugB']\n",
    "df_c = df[df['Drug'] == 'drugC']\n",
    "df_x = df[df['Drug'] == 'drugX']\n",
    "\n",
    "df = pd.concat([df, df_a, df_a, df_a])\n",
    "df = pd.concat([df, df_b, df_b, df_b, df_b])\n",
    "df = pd.concat([df, df_c, df_c, df_c, df_c])\n",
    "df = pd.concat([df, df_x])\n",
    "\n",
    "\n",
    "\n",
    "_ = df.Drug.value_counts().plot(kind='bar')"
   ]
  },
  {
   "cell_type": "code",
   "execution_count": 2,
   "metadata": {},
   "outputs": [
    {
     "data": {
      "text/plain": [
       "(array([0, 1, 2, 3, 4]), array([62, 64, 56, 62, 71]))"
      ]
     },
     "execution_count": 2,
     "metadata": {},
     "output_type": "execute_result"
    }
   ],
   "source": [
    "X = df.drop('Drug', axis=1)\n",
    "y = df['Drug']\n",
    "\n",
    "le = LabelEncoder()\n",
    "\n",
    "X = X.apply(LabelEncoder().fit_transform)\n",
    "y = le.fit_transform(y)\n",
    "\n",
    "X_train,X_test,y_train,y_test = train_test_split(X,y, test_size=0.3,random_state=24)\n",
    "\n",
    "unique, counts = np.unique(y_train, return_counts=True)\n",
    "unique, counts"
   ]
  },
  {
   "cell_type": "code",
   "execution_count": 3,
   "metadata": {},
   "outputs": [
    {
     "data": {
      "text/html": [
       "<div>\n",
       "<style scoped>\n",
       "    .dataframe tbody tr th:only-of-type {\n",
       "        vertical-align: middle;\n",
       "    }\n",
       "\n",
       "    .dataframe tbody tr th {\n",
       "        vertical-align: top;\n",
       "    }\n",
       "\n",
       "    .dataframe thead th {\n",
       "        text-align: right;\n",
       "    }\n",
       "</style>\n",
       "<table border=\"1\" class=\"dataframe\">\n",
       "  <thead>\n",
       "    <tr style=\"text-align: right;\">\n",
       "      <th></th>\n",
       "      <th>0</th>\n",
       "      <th>1</th>\n",
       "      <th>2</th>\n",
       "      <th>3</th>\n",
       "      <th>4</th>\n",
       "    </tr>\n",
       "  </thead>\n",
       "  <tbody>\n",
       "    <tr>\n",
       "      <th>0.156485</th>\n",
       "      <td>0.156485</td>\n",
       "      <td>-1.125250</td>\n",
       "      <td>0.330788</td>\n",
       "      <td>-0.871652</td>\n",
       "      <td>0.707213</td>\n",
       "    </tr>\n",
       "    <tr>\n",
       "      <th>-0.620798</th>\n",
       "      <td>-0.620798</td>\n",
       "      <td>0.888692</td>\n",
       "      <td>1.633264</td>\n",
       "      <td>1.147247</td>\n",
       "      <td>-1.289829</td>\n",
       "    </tr>\n",
       "    <tr>\n",
       "      <th>-1.138986</th>\n",
       "      <td>-1.138986</td>\n",
       "      <td>-1.125250</td>\n",
       "      <td>-0.971688</td>\n",
       "      <td>1.147247</td>\n",
       "      <td>0.075496</td>\n",
       "    </tr>\n",
       "    <tr>\n",
       "      <th>0.415579</th>\n",
       "      <td>0.415579</td>\n",
       "      <td>0.888692</td>\n",
       "      <td>0.330788</td>\n",
       "      <td>1.147247</td>\n",
       "      <td>2.357829</td>\n",
       "    </tr>\n",
       "    <tr>\n",
       "      <th>-1.786721</th>\n",
       "      <td>-1.786721</td>\n",
       "      <td>0.888692</td>\n",
       "      <td>0.330788</td>\n",
       "      <td>-0.871652</td>\n",
       "      <td>0.014362</td>\n",
       "    </tr>\n",
       "    <tr>\n",
       "      <th>...</th>\n",
       "      <td>...</td>\n",
       "      <td>...</td>\n",
       "      <td>...</td>\n",
       "      <td>...</td>\n",
       "      <td>...</td>\n",
       "    </tr>\n",
       "    <tr>\n",
       "      <th>0.221258</th>\n",
       "      <td>0.221258</td>\n",
       "      <td>-1.125250</td>\n",
       "      <td>1.633264</td>\n",
       "      <td>1.147247</td>\n",
       "      <td>-1.004537</td>\n",
       "    </tr>\n",
       "    <tr>\n",
       "      <th>-1.398080</th>\n",
       "      <td>-1.398080</td>\n",
       "      <td>0.888692</td>\n",
       "      <td>0.330788</td>\n",
       "      <td>-0.871652</td>\n",
       "      <td>-1.228695</td>\n",
       "    </tr>\n",
       "    <tr>\n",
       "      <th>1.646275</th>\n",
       "      <td>1.646275</td>\n",
       "      <td>0.888692</td>\n",
       "      <td>0.330788</td>\n",
       "      <td>-0.871652</td>\n",
       "      <td>0.951748</td>\n",
       "    </tr>\n",
       "    <tr>\n",
       "      <th>-1.138986</th>\n",
       "      <td>-1.138986</td>\n",
       "      <td>-1.125250</td>\n",
       "      <td>0.330788</td>\n",
       "      <td>-0.871652</td>\n",
       "      <td>0.605323</td>\n",
       "    </tr>\n",
       "    <tr>\n",
       "      <th>1.192861</th>\n",
       "      <td>1.192861</td>\n",
       "      <td>0.888692</td>\n",
       "      <td>1.633264</td>\n",
       "      <td>-0.871652</td>\n",
       "      <td>-1.330585</td>\n",
       "    </tr>\n",
       "  </tbody>\n",
       "</table>\n",
       "<p>315 rows × 5 columns</p>\n",
       "</div>"
      ],
      "text/plain": [
       "                  0         1         2         3         4\n",
       " 0.156485  0.156485 -1.125250  0.330788 -0.871652  0.707213\n",
       "-0.620798 -0.620798  0.888692  1.633264  1.147247 -1.289829\n",
       "-1.138986 -1.138986 -1.125250 -0.971688  1.147247  0.075496\n",
       " 0.415579  0.415579  0.888692  0.330788  1.147247  2.357829\n",
       "-1.786721 -1.786721  0.888692  0.330788 -0.871652  0.014362\n",
       "...             ...       ...       ...       ...       ...\n",
       " 0.221258  0.221258 -1.125250  1.633264  1.147247 -1.004537\n",
       "-1.398080 -1.398080  0.888692  0.330788 -0.871652 -1.228695\n",
       " 1.646275  1.646275  0.888692  0.330788 -0.871652  0.951748\n",
       "-1.138986 -1.138986 -1.125250  0.330788 -0.871652  0.605323\n",
       " 1.192861  1.192861  0.888692  1.633264 -0.871652 -1.330585\n",
       "\n",
       "[315 rows x 5 columns]"
      ]
     },
     "execution_count": 3,
     "metadata": {},
     "output_type": "execute_result"
    }
   ],
   "source": [
    "from sklearn.preprocessing import StandardScaler  \n",
    "scaler = StandardScaler()  \n",
    "scaler.fit(X_train)\n",
    "\n",
    "X_train = scaler.transform(X_train)  \n",
    "X_test = scaler.transform(X_test) \n",
    "\n",
    "df_train = pd.DataFrame(X_train,index=X_train[:,0])\n",
    "df_train"
   ]
  },
  {
   "cell_type": "code",
   "execution_count": 4,
   "metadata": {},
   "outputs": [],
   "source": [
    "classifier = GaussianNB()  \n",
    "classifier.fit(X_train, y_train)\n",
    "\n",
    "y_pred = classifier.predict(X_test) "
   ]
  },
  {
   "cell_type": "code",
   "execution_count": 5,
   "metadata": {},
   "outputs": [
    {
     "name": "stdout",
     "output_type": "stream",
     "text": [
      "Relatório de classificação: \n",
      "               precision    recall  f1-score   support\n",
      "\n",
      "           0       0.92      0.38      0.54        29\n",
      "           1       0.74      1.00      0.85        28\n",
      "           2       0.83      1.00      0.91        24\n",
      "           3       0.86      1.00      0.92        18\n",
      "           4       1.00      0.97      0.99        37\n",
      "\n",
      "    accuracy                           0.86       136\n",
      "   macro avg       0.87      0.87      0.84       136\n",
      "weighted avg       0.88      0.86      0.84       136\n",
      "\n"
     ]
    }
   ],
   "source": [
    "from sklearn.metrics import confusion_matrix \n",
    "from sklearn.metrics import classification_report\n",
    "from mlxtend.plotting import plot_confusion_matrix\n",
    "import matplotlib.pyplot as plt\n",
    "\n",
    "\n",
    "print(\"Relatório de classificação: \\n\", classification_report(y_test, y_pred))  "
   ]
  },
  {
   "cell_type": "markdown",
   "metadata": {},
   "source": []
  },
  {
   "cell_type": "code",
   "execution_count": 6,
   "metadata": {},
   "outputs": [
    {
     "data": {
      "image/png": "[encoded data removed]",
      "text/plain": [
       "<Figure size 432x288 with 1 Axes>"
      ]
     },
     "metadata": {
      "needs_background": "light"
     },
     "output_type": "display_data"
    }
   ],
   "source": [
    "c_matriz = confusion_matrix(y_test, y_pred)\n",
    "\n",
    "fig, ax = plot_confusion_matrix(conf_mat=c_matriz)\n",
    "plt.title('MATRIZ DE CONFUSÃO - Lemming')\n",
    "\n",
    "ticks = ['DrugY', 'DrugA', 'DrugB', 'DrugC', 'DrugX']\n",
    "n_ticks = [0, 1, 2, 3, 4]\n",
    "ax.set_xticks(n_ticks)\n",
    "ax.set_xticklabels(ticks)\n",
    "ax.set_yticks(n_ticks)\n",
    "ax.set_yticklabels(ticks)\n",
    "\n",
    "plt.savefig('MatrizConfusão.png', format='png')\n",
    "plt.show()"
   ]
  }
 ],
 "metadata": {
  "kernelspec": {
   "display_name": "Python 3.10.4 64-bit",
   "language": "python",
   "name": "python3"
  },
  "language_info": {
   "codemirror_mode": {
    "name": "ipython",
    "version": 3
   },
   "file_extension": ".py",
   "mimetype": "text/x-python",
   "name": "python",
   "nbconvert_exporter": "python",
   "pygments_lexer": "ipython3",
   "version": "3.10.4"
  },
  "orig_nbformat": 4,
  "vscode": {
   "interpreter": {
    "hash": "916dbcbb3f70747c44a77c7bcd40155683ae19c65e1c03b4aa3499c5328201f1"
   }
  }
 },
 "nbformat": 4,
 "nbformat_minor": 2
}
