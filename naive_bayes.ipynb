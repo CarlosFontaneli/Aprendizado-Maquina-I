{
 "cells": [
  {
   "cell_type": "code",
   "execution_count": 22,
   "metadata": {},
   "outputs": [],
   "source": [
    "import pandas as pd\n",
    "import numpy as np\n",
    "import matplotlib.pyplot as plt\n",
    "from sklearn import datasets\n",
    "from sklearn.model_selection import train_test_split\n",
    "from sklearn.naive_bayes import GaussianNB\n",
    "from sklearn.preprocessing import LabelEncoder\n",
    "\n",
    "df = pd.read_csv(\"drug200.csv\")"
   ]
  },
  {
   "cell_type": "code",
   "execution_count": 23,
   "metadata": {},
   "outputs": [],
   "source": [
    "X = df.drop('Drug', axis=1)\n",
    "y = df['Drug']\n",
    "\n",
    "le = LabelEncoder()\n",
    "\n",
    "X = X.apply(LabelEncoder().fit_transform)\n",
    "y = le.fit_transform(y)"
   ]
  },
  {
   "cell_type": "code",
   "execution_count": 24,
   "metadata": {},
   "outputs": [],
   "source": [
    "X_train,X_test,y_train,y_test = train_test_split(X,y, test_size=0.3,random_state=42)"
   ]
  },
  {
   "cell_type": "code",
   "execution_count": 25,
   "metadata": {},
   "outputs": [
    {
     "data": {
      "text/html": [
       "<div>\n",
       "<style scoped>\n",
       "    .dataframe tbody tr th:only-of-type {\n",
       "        vertical-align: middle;\n",
       "    }\n",
       "\n",
       "    .dataframe tbody tr th {\n",
       "        vertical-align: top;\n",
       "    }\n",
       "\n",
       "    .dataframe thead th {\n",
       "        text-align: right;\n",
       "    }\n",
       "</style>\n",
       "<table border=\"1\" class=\"dataframe\">\n",
       "  <thead>\n",
       "    <tr style=\"text-align: right;\">\n",
       "      <th></th>\n",
       "      <th>0</th>\n",
       "      <th>1</th>\n",
       "      <th>2</th>\n",
       "      <th>3</th>\n",
       "      <th>4</th>\n",
       "    </tr>\n",
       "  </thead>\n",
       "  <tbody>\n",
       "    <tr>\n",
       "      <th>-1.574285</th>\n",
       "      <td>-1.574285</td>\n",
       "      <td>-1.089725</td>\n",
       "      <td>-1.070490</td>\n",
       "      <td>-0.891556</td>\n",
       "      <td>-0.664633</td>\n",
       "    </tr>\n",
       "    <tr>\n",
       "      <th>0.620033</th>\n",
       "      <td>0.620033</td>\n",
       "      <td>-1.089725</td>\n",
       "      <td>-1.070490</td>\n",
       "      <td>-0.891556</td>\n",
       "      <td>1.239451</td>\n",
       "    </tr>\n",
       "    <tr>\n",
       "      <th>1.717193</th>\n",
       "      <td>1.717193</td>\n",
       "      <td>0.917663</td>\n",
       "      <td>-1.070490</td>\n",
       "      <td>-0.891556</td>\n",
       "      <td>-1.239451</td>\n",
       "    </tr>\n",
       "    <tr>\n",
       "      <th>-0.154432</th>\n",
       "      <td>-0.154432</td>\n",
       "      <td>0.917663</td>\n",
       "      <td>0.128459</td>\n",
       "      <td>-0.891556</td>\n",
       "      <td>0.233520</td>\n",
       "    </tr>\n",
       "    <tr>\n",
       "      <th>-0.025355</th>\n",
       "      <td>-0.025355</td>\n",
       "      <td>0.917663</td>\n",
       "      <td>1.327407</td>\n",
       "      <td>1.121635</td>\n",
       "      <td>-1.706490</td>\n",
       "    </tr>\n",
       "    <tr>\n",
       "      <th>...</th>\n",
       "      <td>...</td>\n",
       "      <td>...</td>\n",
       "      <td>...</td>\n",
       "      <td>...</td>\n",
       "      <td>...</td>\n",
       "    </tr>\n",
       "    <tr>\n",
       "      <th>-1.445208</th>\n",
       "      <td>-1.445208</td>\n",
       "      <td>0.917663</td>\n",
       "      <td>1.327407</td>\n",
       "      <td>-0.891556</td>\n",
       "      <td>-0.449076</td>\n",
       "    </tr>\n",
       "    <tr>\n",
       "      <th>0.232801</th>\n",
       "      <td>0.232801</td>\n",
       "      <td>-1.089725</td>\n",
       "      <td>1.327407</td>\n",
       "      <td>-0.891556</td>\n",
       "      <td>-0.341298</td>\n",
       "    </tr>\n",
       "    <tr>\n",
       "      <th>-1.057975</th>\n",
       "      <td>-1.057975</td>\n",
       "      <td>-1.089725</td>\n",
       "      <td>-1.070490</td>\n",
       "      <td>-0.891556</td>\n",
       "      <td>1.526860</td>\n",
       "    </tr>\n",
       "    <tr>\n",
       "      <th>1.329960</th>\n",
       "      <td>1.329960</td>\n",
       "      <td>-1.089725</td>\n",
       "      <td>1.327407</td>\n",
       "      <td>-0.891556</td>\n",
       "      <td>0.341298</td>\n",
       "    </tr>\n",
       "    <tr>\n",
       "      <th>-1.122514</th>\n",
       "      <td>-1.122514</td>\n",
       "      <td>-1.089725</td>\n",
       "      <td>0.128459</td>\n",
       "      <td>-0.891556</td>\n",
       "      <td>-0.161667</td>\n",
       "    </tr>\n",
       "  </tbody>\n",
       "</table>\n",
       "<p>140 rows × 5 columns</p>\n",
       "</div>"
      ],
      "text/plain": [
       "                  0         1         2         3         4\n",
       "-1.574285 -1.574285 -1.089725 -1.070490 -0.891556 -0.664633\n",
       " 0.620033  0.620033 -1.089725 -1.070490 -0.891556  1.239451\n",
       " 1.717193  1.717193  0.917663 -1.070490 -0.891556 -1.239451\n",
       "-0.154432 -0.154432  0.917663  0.128459 -0.891556  0.233520\n",
       "-0.025355 -0.025355  0.917663  1.327407  1.121635 -1.706490\n",
       "...             ...       ...       ...       ...       ...\n",
       "-1.445208 -1.445208  0.917663  1.327407 -0.891556 -0.449076\n",
       " 0.232801  0.232801 -1.089725  1.327407 -0.891556 -0.341298\n",
       "-1.057975 -1.057975 -1.089725 -1.070490 -0.891556  1.526860\n",
       " 1.329960  1.329960 -1.089725  1.327407 -0.891556  0.341298\n",
       "-1.122514 -1.122514 -1.089725  0.128459 -0.891556 -0.161667\n",
       "\n",
       "[140 rows x 5 columns]"
      ]
     },
     "execution_count": 25,
     "metadata": {},
     "output_type": "execute_result"
    }
   ],
   "source": [
    "from sklearn.preprocessing import StandardScaler  \n",
    "scaler = StandardScaler()  \n",
    "scaler.fit(X_train)\n",
    "\n",
    "X_train = scaler.transform(X_train)  \n",
    "X_test = scaler.transform(X_test) \n",
    "\n",
    "df_train = pd.DataFrame(X_train,index=X_train[:,0])\n",
    "df_train"
   ]
  },
  {
   "cell_type": "code",
   "execution_count": 26,
   "metadata": {},
   "outputs": [],
   "source": [
    "classifier = GaussianNB()  \n",
    "classifier.fit(X_train, y_train)\n",
    "\n",
    "y_pred = classifier.predict(X_test) "
   ]
  },
  {
   "cell_type": "code",
   "execution_count": 27,
   "metadata": {},
   "outputs": [
    {
     "name": "stdout",
     "output_type": "stream",
     "text": [
      "Relatório de classificação: \n",
      "               precision    recall  f1-score   support\n",
      "\n",
      "           0       1.00      0.58      0.73        26\n",
      "           1       0.64      1.00      0.78         7\n",
      "           2       0.50      1.00      0.67         3\n",
      "           3       0.60      1.00      0.75         6\n",
      "           4       1.00      1.00      1.00        18\n",
      "\n",
      "    accuracy                           0.82        60\n",
      "   macro avg       0.75      0.92      0.79        60\n",
      "weighted avg       0.89      0.82      0.82        60\n",
      "\n"
     ]
    }
   ],
   "source": [
    "from sklearn.metrics import confusion_matrix \n",
    "from sklearn.metrics import classification_report\n",
    "from mlxtend.plotting import plot_confusion_matrix\n",
    "import matplotlib.pyplot as plt\n",
    "\n",
    "\n",
    "print(\"Relatório de classificação: \\n\", classification_report(y_test, y_pred))  "
   ]
  },
  {
   "cell_type": "code",
   "execution_count": 28,
   "metadata": {},
   "outputs": [
    {
     "data": {
      "image/png": "[encoded data removed]",
      "text/plain": [
       "<Figure size 432x288 with 1 Axes>"
      ]
     },
     "metadata": {
      "needs_background": "light"
     },
     "output_type": "display_data"
    }
   ],
   "source": [
    "c_matriz = confusion_matrix(y_test, y_pred)\n",
    "\n",
    "fig, ax = plot_confusion_matrix(conf_mat=c_matriz)\n",
    "plt.title('MATRIZ DE CONFUSÃO - Lemming')\n",
    "\n",
    "ticks = ['DrugY', 'DrugA', 'DrugB', 'DrugC', 'DrugX']\n",
    "n_ticks = [0, 1, 2, 3, 4]\n",
    "ax.set_xticks(n_ticks)\n",
    "ax.set_xticklabels(ticks)\n",
    "ax.set_yticks(n_ticks)\n",
    "ax.set_yticklabels(ticks)\n",
    "\n",
    "plt.savefig('MatrizConfusão.png', format='png')\n",
    "plt.show()"
   ]
  }
 ],
 "metadata": {
  "kernelspec": {
   "display_name": "Python 3.10.0 ('am')",
   "language": "python",
   "name": "python3"
  },
  "language_info": {
   "codemirror_mode": {
    "name": "ipython",
    "version": 3
   },
   "file_extension": ".py",
   "mimetype": "text/x-python",
   "name": "python",
   "nbconvert_exporter": "python",
   "pygments_lexer": "ipython3",
   "version": "3.10.0"
  },
  "orig_nbformat": 4,
  "vscode": {
   "interpreter": {
    "hash": "f1d7f1fdee982941d9899c3bfdb3cbc996f8809e7aebf4215c6e4f1169e99c8c"
   }
  }
 },
 "nbformat": 4,
 "nbformat_minor": 2
}
